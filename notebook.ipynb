{
 "cells": [
  {
   "cell_type": "markdown",
   "id": "ffce146d",
   "metadata": {},
   "source": [
    "## Import Modules"
   ]
  },
  {
   "cell_type": "code",
   "execution_count": 75,
   "id": "e8b9ee41",
   "metadata": {},
   "outputs": [],
   "source": [
    "from numpy.random import seed\n",
    "seed(888)\n",
    "\n",
    "import tensorflow as tf\n",
    "tf.random.set_seed(404)"
   ]
  },
  {
   "cell_type": "code",
   "execution_count": 76,
   "id": "fd857503",
   "metadata": {},
   "outputs": [],
   "source": [
    "import os\n",
    "import numpy as np\n",
    "import zipfile\n",
    "import pandas as pd\n",
    "import matplotlib.pyplot as plt\n",
    "import seaborn as sns"
   ]
  },
  {
   "cell_type": "markdown",
   "id": "d217819b",
   "metadata": {},
   "source": [
    "# Loading Dataset"
   ]
  },
  {
   "cell_type": "code",
   "execution_count": 77,
   "id": "d5587350",
   "metadata": {},
   "outputs": [],
   "source": [
    "def load_csv_from_zip(zip_path: str, filename: str, header=None, as_array: bool = True) -> pd.DataFrame:\n",
    "    \"\"\"\n",
    "    Load a CSV file directly from a ZIP archive.\n",
    "\n",
    "    Parameters\n",
    "    ----------\n",
    "    zip_path : str\n",
    "        Path to the ZIP archive.\n",
    "    filename : str\n",
    "        Name of the CSV file inside the ZIP archive.\n",
    "    header : int, list of int, or None, default None\n",
    "        Row(s) to use as the column names. Use None to keep all rows as data.\n",
    "    as_array : bool, default True\n",
    "        If True, return as a NumPy array. If False, return as a DataFrame.\n",
    "\n",
    "    Returns\n",
    "    -------\n",
    "    np.ndarray or pd.DataFrame\n",
    "        Data in array or DataFrame format.\n",
    "    \"\"\"\n",
    "    with zipfile.ZipFile(zip_path) as z:\n",
    "        with z.open(filename) as f:\n",
    "            df = pd.read_csv(f, header=header)\n",
    "    return df.values if as_array else df\n",
    "\n",
    "ZIP_PATH = \"data/MNIST.zip\"\n",
    "\n",
    "x_train_all = load_csv_from_zip(ZIP_PATH, \"digit_xtrain.csv\")\n",
    "x_test = load_csv_from_zip(ZIP_PATH, \"digit_xtest.csv\")\n",
    "y_train_all = load_csv_from_zip(ZIP_PATH, \"digit_ytrain.csv\")\n",
    "y_test = load_csv_from_zip(ZIP_PATH, \"digit_ytest.csv\")"
   ]
  },
  {
   "cell_type": "markdown",
   "id": "417f8db5",
   "metadata": {},
   "source": [
    "## EDA"
   ]
  },
  {
   "cell_type": "code",
   "execution_count": 78,
   "id": "e1e22475",
   "metadata": {},
   "outputs": [
    {
     "name": "stdout",
     "output_type": "stream",
     "text": [
      "x_train shape: (60000, 784)\n",
      "y_train shape: (60000, 1)\n",
      "x_test shape: (10000, 784)\n",
      "y_test shape: (10000, 1)\n"
     ]
    },
    {
     "data": {
      "image/png": "[encoded data removed]",
      "text/plain": [
       "<Figure size 800x400 with 1 Axes>"
      ]
     },
     "metadata": {},
     "output_type": "display_data"
    },
    {
     "name": "stdout",
     "output_type": "stream",
     "text": [
      "Missing values in x_train: 0\n",
      "Missing values in y_train: 0\n",
      "Missing values in x_test: 0\n",
      "Missing values in y_test: 0\n",
      "Pixel range in x_train: 0 to 255\n",
      "Pixel range in x_test: 0 to 255\n"
     ]
    },
    {
     "data": {
      "image/png": "[encoded data removed]",
      "text/plain": [
       "<Figure size 1200x300 with 5 Axes>"
      ]
     },
     "metadata": {},
     "output_type": "display_data"
    },
    {
     "name": "stdout",
     "output_type": "stream",
     "text": [
      "Train mean pixel value: 33.318421449829934\n",
      "Train std pixel value: 78.56748998339742\n",
      "Test mean pixel value: 33.791224489795916\n",
      "Test std pixel value: 79.1724632222863\n"
     ]
    }
   ],
   "source": [
    "def eda_mnist(x_train, y_train, x_test, y_test, sample_size=5):\n",
    "    # 1. Check shapes\n",
    "    print(\"x_train shape:\", x_train.shape)\n",
    "    print(\"y_train shape:\", y_train.shape)\n",
    "    print(\"x_test shape:\", x_test.shape)\n",
    "    print(\"y_test shape:\", y_test.shape)\n",
    "\n",
    "    # 2. Check label distribution\n",
    "    plt.figure(figsize=(8, 4))\n",
    "    sns.countplot(x=y_train.flatten())\n",
    "    plt.title(\"Training Label Distribution\")\n",
    "    plt.xlabel(\"Digit\")\n",
    "    plt.ylabel(\"Count\")\n",
    "    plt.show()\n",
    "\n",
    "    # 3. Check missing values\n",
    "    print(\"Missing values in x_train:\", np.isnan(x_train).sum())\n",
    "    print(\"Missing values in y_train:\", np.isnan(y_train).sum())\n",
    "    print(\"Missing values in x_test:\", np.isnan(x_test).sum())\n",
    "    print(\"Missing values in y_test:\", np.isnan(y_test).sum())\n",
    "\n",
    "    # 4. Check pixel value ranges\n",
    "    print(\"Pixel range in x_train:\", x_train.min(), \"to\", x_train.max())\n",
    "    print(\"Pixel range in x_test:\", x_test.min(), \"to\", x_test.max())\n",
    "\n",
    "    # 5. Show random samples\n",
    "    plt.figure(figsize=(12, 3))\n",
    "    indices = np.random.choice(len(x_train), sample_size, replace=False)\n",
    "    for i, idx in enumerate(indices):\n",
    "        img = x_train[idx].reshape(28, 28)\n",
    "        plt.subplot(1, sample_size, i+1)\n",
    "        plt.imshow(img, cmap=\"gray\")\n",
    "        plt.axis(\"off\")\n",
    "        plt.title(f\"Label: {y_train[idx]}\")\n",
    "    plt.show()\n",
    "\n",
    "    # 6. Basic statistics\n",
    "    print(\"Train mean pixel value:\", np.mean(x_train))\n",
    "    print(\"Train std pixel value:\", np.std(x_train))\n",
    "    print(\"Test mean pixel value:\", np.mean(x_test))\n",
    "    print(\"Test std pixel value:\", np.std(x_test))\n",
    "\n",
    "eda_mnist(x_train_all, y_train_all, x_test, y_test)"
   ]
  },
  {
   "cell_type": "markdown",
   "id": "2afb9147",
   "metadata": {},
   "source": [
    "## Data Pre-processing"
   ]
  },
  {
   "cell_type": "markdown",
   "id": "5843f9a0",
   "metadata": {},
   "source": [
    "### Re-scale"
   ]
  },
  {
   "cell_type": "code",
   "execution_count": 79,
   "id": "f5b17baf",
   "metadata": {},
   "outputs": [],
   "source": [
    "# Re-scale data between 0 - 1\n",
    "x_train_all, x_test = x_train_all/255.0 , x_test / 255.0"
   ]
  },
  {
   "cell_type": "markdown",
   "id": "ebeaa0b2",
   "metadata": {},
   "source": [
    "### Convert target values to one-hot encoding"
   ]
  },
  {
   "cell_type": "code",
   "execution_count": 80,
   "id": "c184bb93",
   "metadata": {},
   "outputs": [],
   "source": [
    "NUM_CLASSES = 10\n",
    "\n",
    "y_train_all = np.eye(NUM_CLASSES)[y_train_all.ravel()]\n",
    "y_test = np.eye(NUM_CLASSES)[y_test.ravel()]"
   ]
  },
  {
   "cell_type": "markdown",
   "id": "cc03ed4d",
   "metadata": {},
   "source": [
    "### Create Validation set from training data"
   ]
  },
  {
   "cell_type": "code",
   "execution_count": 83,
   "id": "8de8448b",
   "metadata": {},
   "outputs": [],
   "source": [
    "VALIDATION_SIZE = 10000\n",
    "\n",
    "x_val = x_train_all[:VALIDATION_SIZE]\n",
    "y_val = y_train_all[:VALIDATION_SIZE]\n",
    "\n",
    "x_train = x_train_all[VALIDATION_SIZE:]\n",
    "y_train = y_train_all[VALIDATION_SIZE:]"
   ]
  }
 ],
 "metadata": {
  "kernelspec": {
   "display_name": "Python 3",
   "language": "python",
   "name": "python3"
  },
  "language_info": {
   "codemirror_mode": {
    "name": "ipython",
    "version": 3
   },
   "file_extension": ".py",
   "mimetype": "text/x-python",
   "name": "python",
   "nbconvert_exporter": "python",
   "pygments_lexer": "ipython3",
   "version": "3.12.4"
  }
 },
 "nbformat": 4,
 "nbformat_minor": 5
}
